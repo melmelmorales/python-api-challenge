{
 "cells": [
  {
   "cell_type": "markdown",
   "metadata": {},
   "source": [
    "# WeatherPy\n",
    "\n",
    "---\n",
    "\n",
    "## Starter Code to Generate Random Geographic Coordinates and a List of Cities"
   ]
  },
  {
   "cell_type": "code",
   "execution_count": 1,
   "metadata": {
    "scrolled": true
   },
   "outputs": [
    {
     "ename": "ModuleNotFoundError",
     "evalue": "No module named 'api_keys'",
     "output_type": "error",
     "traceback": [
      "\u001b[1;31m---------------------------------------------------------------------------\u001b[0m",
      "\u001b[1;31mModuleNotFoundError\u001b[0m                       Traceback (most recent call last)",
      "Cell \u001b[1;32mIn[1], line 10\u001b[0m\n\u001b[0;32m      7\u001b[0m \u001b[38;5;28;01mfrom\u001b[39;00m \u001b[38;5;21;01mscipy\u001b[39;00m\u001b[38;5;21;01m.\u001b[39;00m\u001b[38;5;21;01mstats\u001b[39;00m \u001b[38;5;28;01mimport\u001b[39;00m linregress\n\u001b[0;32m      9\u001b[0m \u001b[38;5;66;03m# Impor the OpenWeatherMap API key\u001b[39;00m\n\u001b[1;32m---> 10\u001b[0m \u001b[38;5;28;01mfrom\u001b[39;00m \u001b[38;5;21;01mapi_keys\u001b[39;00m \u001b[38;5;28;01mimport\u001b[39;00m weather_api_key\n\u001b[0;32m     12\u001b[0m \u001b[38;5;66;03m# Import citipy to determine the cities based on latitude and longitude\u001b[39;00m\n\u001b[0;32m     13\u001b[0m \u001b[38;5;28;01mfrom\u001b[39;00m \u001b[38;5;21;01mcitipy\u001b[39;00m \u001b[38;5;28;01mimport\u001b[39;00m citipy\n",
      "\u001b[1;31mModuleNotFoundError\u001b[0m: No module named 'api_keys'"
     ]
    }
   ],
   "source": [
    "# Dependencies and Setup\n",
    "import matplotlib.pyplot as plt\n",
    "import pandas as pd\n",
    "import numpy as np\n",
    "import requests\n",
    "import time\n",
    "from scipy.stats import linregress\n",
    "\n",
    "# Impor the OpenWeatherMap API key\n",
    "from api_keys import weather_api_key\n",
    "\n",
    "# Import citipy to determine the cities based on latitude and longitude\n",
    "from citipy import citipy"
   ]
  },
  {
   "cell_type": "markdown",
   "metadata": {},
   "source": [
    "### Generate the Cities List by Using the `citipy` Library"
   ]
  },
  {
   "cell_type": "code",
   "execution_count": null,
   "metadata": {},
   "outputs": [],
   "source": [
    "# Empty list for holding the latitude and longitude combinations\n",
    "lat_lngs = []\n",
    "\n",
    "# Empty list for holding the cities names\n",
    "cities = []\n",
    "\n",
    "# Range of latitudes and longitudes\n",
    "lat_range = (-90, 90)\n",
    "lng_range = (-180, 180)\n",
    "\n",
    "# Create a set of random lat and lng combinations\n",
    "lats = np.random.uniform(lat_range[0], lat_range[1], size=1500)\n",
    "lngs = np.random.uniform(lng_range[0], lng_range[1], size=1500)\n",
    "lat_lngs = zip(lats, lngs)\n",
    "\n",
    "# Identify nearest city for each lat, lng combination\n",
    "for lat_lng in lat_lngs:\n",
    "    city = citipy.nearest_city(lat_lng[0], lat_lng[1]).city_name\n",
    "    \n",
    "    # If the city is unique, then add it to a our cities list\n",
    "    if city not in cities:\n",
    "        cities.append(city)\n",
    "\n",
    "# Print the city count to confirm sufficient count\n",
    "print(f\"Number of cities in the list: {len(cities)}\")"
   ]
  },
  {
   "cell_type": "markdown",
   "metadata": {},
   "source": [
    "---"
   ]
  },
  {
   "cell_type": "markdown",
   "metadata": {},
   "source": [
    "## Requirement 1: Create Plots to Showcase the Relationship Between Weather Variables and Latitude\n",
    "\n",
    "### Use the OpenWeatherMap API to retrieve weather data from the cities list generated in the started code"
   ]
  },
  {
   "cell_type": "code",
   "execution_count": null,
   "metadata": {},
   "outputs": [
    {
     "name": "stdout",
     "output_type": "stream",
     "text": [
      "Processing Record 25 of Set 8 | torrington\n",
      "Processing Record 26 of Set 8 | krutikha\n",
      "Processing Record 27 of Set 8 | bonavista\n",
      "Processing Record 28 of Set 8 | zaysan\n",
      "Processing Record 29 of Set 8 | mana\n",
      "Processing Record 30 of Set 8 | nemuro\n",
      "Processing Record 31 of Set 8 | mandera\n",
      "Processing Record 32 of Set 8 | numan\n",
      "Processing Record 33 of Set 8 | pingliang\n",
      "Processing Record 34 of Set 8 | saldanha\n",
      "Processing Record 35 of Set 8 | petropavlovsk-kamchatskiy\n",
      "Processing Record 36 of Set 8 | vila velha\n",
      "Processing Record 37 of Set 8 | bengkulu\n",
      "Processing Record 38 of Set 8 | honiara\n",
      "Processing Record 39 of Set 8 | pemba\n",
      "Processing Record 40 of Set 8 | viligili\n",
      "City not found. Skipping...\n",
      "Processing Record 41 of Set 8 | ahipara\n",
      "Processing Record 42 of Set 8 | shingu\n",
      "Processing Record 43 of Set 8 | bargal\n",
      "City not found. Skipping...\n",
      "Processing Record 44 of Set 8 | korla\n",
      "Processing Record 45 of Set 8 | lerik\n",
      "Processing Record 46 of Set 8 | quelimane\n",
      "Processing Record 47 of Set 8 | katyuzhanka\n",
      "Processing Record 48 of Set 8 | narwar\n",
      "Processing Record 49 of Set 8 | port hardy\n",
      "Processing Record 0 of Set 9 | sol-iletsk\n",
      "Processing Record 1 of Set 9 | tabou\n",
      "Processing Record 2 of Set 9 | saint anthony\n",
      "Processing Record 3 of Set 9 | srednekolymsk\n",
      "Processing Record 4 of Set 9 | homer\n",
      "Processing Record 5 of Set 9 | livingston\n",
      "Processing Record 6 of Set 9 | lima\n",
      "Processing Record 7 of Set 9 | christchurch\n",
      "Processing Record 8 of Set 9 | beitbridge\n",
      "Processing Record 9 of Set 9 | kortkeros\n",
      "Processing Record 10 of Set 9 | bur gabo\n",
      "City not found. Skipping...\n",
      "Processing Record 11 of Set 9 | port hedland\n",
      "Processing Record 12 of Set 9 | fortuna\n",
      "Processing Record 13 of Set 9 | dicabisagan\n",
      "Processing Record 14 of Set 9 | smithers\n",
      "Processing Record 15 of Set 9 | peleduy\n",
      "Processing Record 16 of Set 9 | yulara\n",
      "Processing Record 17 of Set 9 | roebourne\n",
      "Processing Record 18 of Set 9 | mariinskiy posad\n",
      "Processing Record 19 of Set 9 | rawannawi\n",
      "City not found. Skipping...\n",
      "Processing Record 20 of Set 9 | mayumba\n",
      "Processing Record 21 of Set 9 | adrar\n",
      "Processing Record 22 of Set 9 | port blair\n",
      "Processing Record 23 of Set 9 | komsomolskiy\n",
      "Processing Record 24 of Set 9 | ribeira grande\n",
      "Processing Record 25 of Set 9 | qasigiannguit\n",
      "Processing Record 26 of Set 9 | buraydah\n",
      "Processing Record 27 of Set 9 | port-gentil\n",
      "Processing Record 28 of Set 9 | saint-francois\n",
      "Processing Record 29 of Set 9 | vestmannaeyjar\n",
      "Processing Record 30 of Set 9 | bogande\n",
      "Processing Record 31 of Set 9 | quesnel\n",
      "Processing Record 32 of Set 9 | usman\n",
      "Processing Record 33 of Set 9 | aykhal\n",
      "Processing Record 34 of Set 9 | carlyle\n",
      "Processing Record 35 of Set 9 | kayerkan\n",
      "Processing Record 36 of Set 9 | moron\n",
      "Processing Record 37 of Set 9 | paamiut\n",
      "Processing Record 38 of Set 9 | hamilton\n",
      "Processing Record 39 of Set 9 | seoul\n",
      "Processing Record 40 of Set 9 | woodward\n",
      "Processing Record 41 of Set 9 | georgiyevskoye\n",
      "Processing Record 42 of Set 9 | mayo\n",
      "Processing Record 43 of Set 9 | kysyl-syr\n",
      "Processing Record 44 of Set 9 | tashara\n",
      "Processing Record 45 of Set 9 | acajutla\n",
      "Processing Record 46 of Set 9 | capoterra\n",
      "Processing Record 47 of Set 9 | muisne\n",
      "Processing Record 48 of Set 9 | praia da vitoria\n",
      "Processing Record 49 of Set 9 | maniitsoq\n",
      "Processing Record 0 of Set 10 | kalemie\n",
      "Processing Record 1 of Set 10 | tagusao\n",
      "Processing Record 2 of Set 10 | mao\n",
      "Processing Record 3 of Set 10 | mahibadhoo\n",
      "Processing Record 4 of Set 10 | cabo san lucas\n",
      "Processing Record 5 of Set 10 | panuco\n",
      "Processing Record 6 of Set 10 | hervey bay\n",
      "Processing Record 7 of Set 10 | fayaoue\n",
      "Processing Record 8 of Set 10 | stolac\n",
      "Processing Record 9 of Set 10 | gamboma\n",
      "Processing Record 10 of Set 10 | rundu\n",
      "Processing Record 11 of Set 10 | carutapera\n",
      "Processing Record 12 of Set 10 | port-de-bouc\n",
      "Processing Record 13 of Set 10 | nanortalik\n",
      "Processing Record 14 of Set 10 | dzaoudzi\n",
      "Processing Record 15 of Set 10 | aktau\n",
      "Processing Record 16 of Set 10 | lorengau\n",
      "Processing Record 17 of Set 10 | pachino\n",
      "Processing Record 18 of Set 10 | cabedelo\n",
      "Processing Record 19 of Set 10 | denpasar\n",
      "Processing Record 20 of Set 10 | ipixuna\n",
      "Processing Record 21 of Set 10 | broome\n",
      "Processing Record 22 of Set 10 | tilichiki\n",
      "Processing Record 23 of Set 10 | lakki marwat\n",
      "Processing Record 24 of Set 10 | veinticinco de mayo\n",
      "Processing Record 25 of Set 10 | avdon\n",
      "Processing Record 26 of Set 10 | katobu\n",
      "Processing Record 27 of Set 10 | meyungs\n",
      "City not found. Skipping...\n",
      "Processing Record 28 of Set 10 | merauke\n",
      "Processing Record 29 of Set 10 | yangliuqing\n",
      "Processing Record 30 of Set 10 | tieling\n",
      "Processing Record 31 of Set 10 | togur\n",
      "Processing Record 32 of Set 10 | thinadhoo\n",
      "Processing Record 33 of Set 10 | whitchurch-stouffville\n",
      "City not found. Skipping...\n",
      "Processing Record 34 of Set 10 | terra santa\n",
      "Processing Record 35 of Set 10 | colares\n",
      "Processing Record 36 of Set 10 | havoysund\n",
      "Processing Record 37 of Set 10 | ostrovnoy\n",
      "Processing Record 38 of Set 10 | alofi\n",
      "Processing Record 39 of Set 10 | samandag\n",
      "Processing Record 40 of Set 10 | san joaquin\n",
      "Processing Record 41 of Set 10 | treinta y tres\n",
      "Processing Record 42 of Set 10 | nazareno\n",
      "Processing Record 43 of Set 10 | tessalit\n",
      "Processing Record 44 of Set 10 | yaan\n",
      "Processing Record 45 of Set 10 | ixtapa\n",
      "Processing Record 46 of Set 10 | dong hoi\n",
      "Processing Record 47 of Set 10 | harindanga\n",
      "Processing Record 48 of Set 10 | sorvag\n",
      "City not found. Skipping...\n",
      "Processing Record 49 of Set 10 | pontypool\n",
      "Processing Record 0 of Set 11 | ulladulla\n",
      "Processing Record 1 of Set 11 | la paz\n",
      "Processing Record 2 of Set 11 | hualmay\n",
      "Processing Record 3 of Set 11 | barroso\n",
      "Processing Record 4 of Set 11 | vryburg\n",
      "Processing Record 5 of Set 11 | beira\n",
      "Processing Record 6 of Set 11 | the valley\n",
      "Processing Record 7 of Set 11 | narsaq\n",
      "Processing Record 8 of Set 11 | juegang\n",
      "Processing Record 9 of Set 11 | verkhniy avzyan\n",
      "Processing Record 10 of Set 11 | berdyuzhye\n",
      "City not found. Skipping...\n",
      "Processing Record 11 of Set 11 | araouane\n",
      "Processing Record 12 of Set 11 | kirakira\n",
      "Processing Record 13 of Set 11 | tautira\n",
      "Processing Record 14 of Set 11 | singkang\n",
      "Processing Record 15 of Set 11 | taitung\n",
      "Processing Record 16 of Set 11 | nabire\n",
      "Processing Record 17 of Set 11 | ust-kamchatsk\n",
      "City not found. Skipping...\n",
      "Processing Record 18 of Set 11 | chifeng\n",
      "Processing Record 19 of Set 11 | caiaponia\n",
      "Processing Record 20 of Set 11 | salto\n",
      "Processing Record 21 of Set 11 | praya\n",
      "Processing Record 22 of Set 11 | aksarka\n",
      "Processing Record 23 of Set 11 | abu zabad\n",
      "Processing Record 24 of Set 11 | kushima\n",
      "Processing Record 25 of Set 11 | beaune\n",
      "Processing Record 26 of Set 11 | egvekinot\n",
      "Processing Record 27 of Set 11 | greenville\n",
      "Processing Record 28 of Set 11 | ust-ordynskiy\n",
      "Processing Record 29 of Set 11 | tranas\n",
      "Processing Record 30 of Set 11 | pleasanton\n",
      "Processing Record 31 of Set 11 | beringovskiy\n",
      "Processing Record 32 of Set 11 | newcastleton\n",
      "Processing Record 33 of Set 11 | utiroa\n",
      "City not found. Skipping...\n",
      "Processing Record 34 of Set 11 | hirado\n",
      "Processing Record 35 of Set 11 | brokopondo\n",
      "Processing Record 36 of Set 11 | batagay\n",
      "Processing Record 37 of Set 11 | laurel\n",
      "Processing Record 38 of Set 11 | statesville\n",
      "Processing Record 39 of Set 11 | tikrit\n",
      "Processing Record 40 of Set 11 | iisalmi\n",
      "Processing Record 41 of Set 11 | lahij\n",
      "Processing Record 42 of Set 11 | derzhavinsk\n",
      "Processing Record 43 of Set 11 | kyren\n",
      "Processing Record 44 of Set 11 | kapit\n",
      "Processing Record 45 of Set 11 | altay\n",
      "Processing Record 46 of Set 11 | waseca\n",
      "Processing Record 47 of Set 11 | nantucket\n",
      "Processing Record 48 of Set 11 | cadillac\n",
      "Processing Record 49 of Set 11 | sfantu gheorghe\n",
      "Processing Record 0 of Set 12 | kundiawa\n",
      "Processing Record 1 of Set 12 | gornopravdinsk\n",
      "Processing Record 2 of Set 12 | bhandara\n",
      "Processing Record 3 of Set 12 | wadi musa\n",
      "Processing Record 4 of Set 12 | charters towers\n",
      "Processing Record 5 of Set 12 | ustka\n",
      "Processing Record 6 of Set 12 | sawakin\n",
      "Processing Record 7 of Set 12 | severo-kurilsk\n",
      "Processing Record 8 of Set 12 | rameswaram\n",
      "Processing Record 9 of Set 12 | guerrero negro\n",
      "Processing Record 10 of Set 12 | bandarbeyla\n",
      "Processing Record 11 of Set 12 | antofagasta\n",
      "Processing Record 12 of Set 12 | vila franca do campo\n",
      "Processing Record 13 of Set 12 | bauta\n"
     ]
    },
    {
     "name": "stdout",
     "output_type": "stream",
     "text": [
      "Processing Record 14 of Set 12 | nsanje\n",
      "Processing Record 15 of Set 12 | xuchang\n",
      "Processing Record 16 of Set 12 | todos santos\n",
      "Processing Record 17 of Set 12 | kuhestan\n",
      "City not found. Skipping...\n",
      "Processing Record 18 of Set 12 | bataipora\n",
      "Processing Record 19 of Set 12 | tateyama\n",
      "Processing Record 20 of Set 12 | wajima\n",
      "Processing Record 21 of Set 12 | pokosnoye\n",
      "Processing Record 22 of Set 12 | waipawa\n",
      "Processing Record 23 of Set 12 | yaring\n",
      "Processing Record 24 of Set 12 | isiro\n",
      "Processing Record 25 of Set 12 | chivilcoy\n",
      "Processing Record 26 of Set 12 | mandalgovi\n",
      "Processing Record 27 of Set 12 | nicoya\n",
      "Processing Record 28 of Set 12 | novocheremshansk\n",
      "Processing Record 29 of Set 12 | emirdag\n",
      "Processing Record 30 of Set 12 | nouadhibou\n",
      "Processing Record 31 of Set 12 | tongliao\n",
      "Processing Record 32 of Set 12 | ryomgard\n",
      "Processing Record 33 of Set 12 | khudumelapye\n",
      "Processing Record 34 of Set 12 | talcahuano\n",
      "Processing Record 35 of Set 12 | gifhorn\n",
      "Processing Record 36 of Set 12 | bilma\n",
      "Processing Record 37 of Set 12 | vung tau\n",
      "Processing Record 38 of Set 12 | byron bay\n",
      "Processing Record 39 of Set 12 | kalabo\n",
      "Processing Record 40 of Set 12 | arcata\n",
      "Processing Record 41 of Set 12 | lemoore\n",
      "Processing Record 42 of Set 12 | norfolk\n",
      "Processing Record 43 of Set 12 | juba\n",
      "Processing Record 44 of Set 12 | pali\n",
      "Processing Record 45 of Set 12 | katsuura\n",
      "Processing Record 46 of Set 12 | bambanglipuro\n",
      "Processing Record 47 of Set 12 | padang\n",
      "Processing Record 48 of Set 12 | freeport\n",
      "Processing Record 49 of Set 12 | bulgan\n",
      "Processing Record 0 of Set 13 | sorland\n",
      "Processing Record 1 of Set 13 | saryg-sep\n",
      "Processing Record 2 of Set 13 | batagay-alyta\n",
      "Processing Record 3 of Set 13 | asayita\n",
      "City not found. Skipping...\n",
      "Processing Record 4 of Set 13 | lompoc\n",
      "Processing Record 5 of Set 13 | ust-bolsheretsk\n",
      "City not found. Skipping...\n",
      "Processing Record 6 of Set 13 | changli\n",
      "Processing Record 7 of Set 13 | choma\n",
      "Processing Record 8 of Set 13 | tena\n",
      "Processing Record 9 of Set 13 | ilhabela\n",
      "Processing Record 10 of Set 13 | redmond\n",
      "Processing Record 11 of Set 13 | wyndham\n",
      "Processing Record 12 of Set 13 | nhulunbuy\n",
      "Processing Record 13 of Set 13 | sangamner\n",
      "Processing Record 14 of Set 13 | road town\n",
      "Processing Record 15 of Set 13 | ranong\n",
      "Processing Record 16 of Set 13 | staryy nadym\n",
      "Processing Record 17 of Set 13 | dargaville\n",
      "Processing Record 18 of Set 13 | sovetskiy\n",
      "Processing Record 19 of Set 13 | tatarsk\n",
      "Processing Record 20 of Set 13 | canchungo\n",
      "Processing Record 21 of Set 13 | iquique\n",
      "Processing Record 22 of Set 13 | poum\n",
      "-----------------------------\n",
      "Data Retrieval Complete      \n",
      "-----------------------------\n"
     ]
    }
   ],
   "source": [
    "# Set the API base URL\n",
    "url = # YOUR CODE HERE\n",
    "\n",
    "# Define an empty list to fetch the weather data for each city\n",
    "city_data = []\n",
    "\n",
    "# Print to logger\n",
    "print(\"Beginning Data Retrieval     \")\n",
    "print(\"-----------------------------\")\n",
    "\n",
    "# Create counters\n",
    "record_count = 1\n",
    "set_count = 1\n",
    "\n",
    "# Loop through all the cities in our list to fetch weather data\n",
    "for i, city in enumerate(cities):\n",
    "        \n",
    "    # Group cities in sets of 50 for logging purposes\n",
    "    if (i % 50 == 0 and i >= 50):\n",
    "        set_count += 1\n",
    "        record_count = 0\n",
    "\n",
    "    # Create endpoint URL with each city\n",
    "    city_url = # YOUR CODE HERE\n",
    "    \n",
    "    # Log the url, record, and set numbers\n",
    "    print(\"Processing Record %s of Set %s | %s\" % (record_count, set_count, city))\n",
    "\n",
    "    # Add 1 to the record count\n",
    "    record_count += 1\n",
    "\n",
    "    # Run an API request for each of the cities\n",
    "    try:\n",
    "        # Parse the JSON and retrieve data\n",
    "        city_weather = # YOUR CODE HERE\n",
    "\n",
    "        # Parse out latitude, longitude, max temp, humidity, cloudiness, wind speed, country, and date\n",
    "        city_lat = # YOUR CODE HERE\n",
    "        city_lng = # YOUR CODE HERE\n",
    "        city_max_temp = # YOUR CODE HERE\n",
    "        city_humidity = # YOUR CODE HERE\n",
    "        city_clouds = # YOUR CODE HERE\n",
    "        city_wind = # YOUR CODE HERE\n",
    "        city_country = # YOUR CODE HERE\n",
    "        city_date = # YOUR CODE HERE\n",
    "\n",
    "        # Append the City information into city_data list\n",
    "        city_data.append({\"City\": city, \n",
    "                          \"Lat\": city_lat, \n",
    "                          \"Lng\": city_lng, \n",
    "                          \"Max Temp\": city_max_temp,\n",
    "                          \"Humidity\": city_humidity,\n",
    "                          \"Cloudiness\": city_clouds,\n",
    "                          \"Wind Speed\": city_wind,\n",
    "                          \"Country\": city_country,\n",
    "                          \"Date\": city_date})\n",
    "\n",
    "    # If an error is experienced, skip the city\n",
    "    except:\n",
    "        print(\"City not found. Skipping...\")\n",
    "        pass\n",
    "              \n",
    "# Indicate that Data Loading is complete \n",
    "print(\"-----------------------------\")\n",
    "print(\"Data Retrieval Complete      \")\n",
    "print(\"-----------------------------\")"
   ]
  },
  {
   "cell_type": "code",
   "execution_count": null,
   "metadata": {},
   "outputs": [],
   "source": [
    "# Convert the cities weather data into a Pandas DataFrame\n",
    "city_data_df = # YOUR CODE HERE\n",
    "\n",
    "# Show Record Count\n",
    "city_data_df.count()"
   ]
  },
  {
   "cell_type": "code",
   "execution_count": null,
   "metadata": {},
   "outputs": [],
   "source": [
    "# Display sample data\n",
    "city_data_df.head()"
   ]
  },
  {
   "cell_type": "code",
   "execution_count": null,
   "metadata": {},
   "outputs": [],
   "source": [
    "# Export the City_Data into a csv\n",
    "city_data_df.to_csv(\"output_data/cities.csv\", index_label=\"City_ID\")"
   ]
  },
  {
   "cell_type": "code",
   "execution_count": null,
   "metadata": {},
   "outputs": [],
   "source": [
    "# Read saved data\n",
    "city_data_df = pd.read_csv(\"output_data/cities.csv\", index_col=\"City_ID\")\n",
    "\n",
    "# Display sample data\n",
    "city_data_df.head()"
   ]
  },
  {
   "cell_type": "markdown",
   "metadata": {},
   "source": [
    "### Create the Scatter Plots Requested\n",
    "\n",
    "#### Latitude Vs. Temperature"
   ]
  },
  {
   "cell_type": "code",
   "execution_count": null,
   "metadata": {
    "tags": []
   },
   "outputs": [],
   "source": [
    "# Build scatter plot for latitude vs. temperature\n",
    "# YOUR CODE HERE\n",
    "\n",
    "# Incorporate the other graph properties\n",
    "# YOUR CODE HERE\n",
    "\n",
    "# Save the figure\n",
    "plt.savefig(\"output_data/Fig1.png\")\n",
    "\n",
    "# Show plot\n",
    "plt.show()"
   ]
  },
  {
   "cell_type": "markdown",
   "metadata": {},
   "source": [
    "#### Latitude Vs. Humidity"
   ]
  },
  {
   "cell_type": "code",
   "execution_count": null,
   "metadata": {},
   "outputs": [],
   "source": [
    "# Build the scatter plots for latitude vs. humidity\n",
    "# YOUR CODE HERE\n",
    "\n",
    "# Incorporate the other graph properties\n",
    "# YOUR CODE HERE\n",
    "\n",
    "# Save the figure\n",
    "plt.savefig(\"output_data/Fig2.png\")\n",
    "\n",
    "# Show plot\n",
    "plt.show()"
   ]
  },
  {
   "cell_type": "markdown",
   "metadata": {},
   "source": [
    "#### Latitude Vs. Cloudiness"
   ]
  },
  {
   "cell_type": "code",
   "execution_count": null,
   "metadata": {},
   "outputs": [],
   "source": [
    "# Build the scatter plots for latitude vs. cloudiness\n",
    "# YOUR CODE HERE\n",
    "\n",
    "# Incorporate the other graph properties\n",
    "# YOUR CODE HERE\n",
    "\n",
    "# Save the figure\n",
    "plt.savefig(\"output_data/Fig3.png\")\n",
    "\n",
    "# Show plot\n",
    "plt.show()"
   ]
  },
  {
   "cell_type": "markdown",
   "metadata": {},
   "source": [
    "#### Latitude vs. Wind Speed Plot"
   ]
  },
  {
   "cell_type": "code",
   "execution_count": null,
   "metadata": {},
   "outputs": [],
   "source": [
    "# Build the scatter plots for latitude vs. wind speed\n",
    "# YOUR CODE HERE\n",
    "\n",
    "# Incorporate the other graph properties\n",
    "# YOUR CODE HERE\n",
    "\n",
    "# Save the figure\n",
    "plt.savefig(\"output_data/Fig4.png\")\n",
    "\n",
    "# Show plot\n",
    "plt.show()"
   ]
  },
  {
   "cell_type": "markdown",
   "metadata": {},
   "source": [
    "---\n",
    "\n",
    "## Requirement 2: Compute Linear Regression for Each Relationship\n"
   ]
  },
  {
   "cell_type": "code",
   "execution_count": null,
   "metadata": {},
   "outputs": [],
   "source": [
    "# Define a function to create Linear Regression plots\n",
    "# YOUR CODE HERE"
   ]
  },
  {
   "cell_type": "code",
   "execution_count": null,
   "metadata": {},
   "outputs": [],
   "source": [
    "# Create a DataFrame with the Northern Hemisphere data (Latitude >= 0)\n",
    "# YOUR CODE HERE\n",
    "\n",
    "# Display sample data\n",
    "northern_hemi_df.head()"
   ]
  },
  {
   "cell_type": "code",
   "execution_count": null,
   "metadata": {},
   "outputs": [],
   "source": [
    "# Create a DataFrame with the Southern Hemisphere data (Latitude < 0)\n",
    "# YOUR CODE HERE\n",
    "\n",
    "# Display sample data\n",
    "southern_hemi_df.head()"
   ]
  },
  {
   "cell_type": "markdown",
   "metadata": {},
   "source": [
    "###  Temperature vs. Latitude Linear Regression Plot"
   ]
  },
  {
   "cell_type": "code",
   "execution_count": null,
   "metadata": {},
   "outputs": [],
   "source": [
    "# Linear regression on Northern Hemisphere\n",
    "# YOUR CODE HERE"
   ]
  },
  {
   "cell_type": "code",
   "execution_count": null,
   "metadata": {},
   "outputs": [],
   "source": [
    "# Linear regression on Southern Hemisphere\n",
    "# YOUR CODE HERE"
   ]
  },
  {
   "cell_type": "markdown",
   "metadata": {},
   "source": [
    "**Discussion about the linear relationship:** YOUR RESPONSE HERE"
   ]
  },
  {
   "cell_type": "markdown",
   "metadata": {},
   "source": [
    "### Humidity vs. Latitude Linear Regression Plot"
   ]
  },
  {
   "cell_type": "code",
   "execution_count": null,
   "metadata": {},
   "outputs": [],
   "source": [
    "# Northern Hemisphere\n",
    "# YOUR CODE HERE"
   ]
  },
  {
   "cell_type": "code",
   "execution_count": null,
   "metadata": {},
   "outputs": [],
   "source": [
    "# Southern Hemisphere\n",
    "# YOUR CODE HERE"
   ]
  },
  {
   "cell_type": "markdown",
   "metadata": {},
   "source": [
    "**Discussion about the linear relationship:** YOUR RESPONSE HERE"
   ]
  },
  {
   "cell_type": "markdown",
   "metadata": {},
   "source": [
    "### Cloudiness vs. Latitude Linear Regression Plot"
   ]
  },
  {
   "cell_type": "code",
   "execution_count": null,
   "metadata": {},
   "outputs": [],
   "source": [
    "# Northern Hemisphere\n",
    "# YOUR CODE HERE"
   ]
  },
  {
   "cell_type": "code",
   "execution_count": null,
   "metadata": {},
   "outputs": [],
   "source": [
    "# Southern Hemisphere\n",
    "# YOUR CODE HERE"
   ]
  },
  {
   "cell_type": "markdown",
   "metadata": {},
   "source": [
    "**Discussion about the linear relationship:** YOUR RESPONSE HERE"
   ]
  },
  {
   "cell_type": "markdown",
   "metadata": {},
   "source": [
    "### Wind Speed vs. Latitude Linear Regression Plot"
   ]
  },
  {
   "cell_type": "code",
   "execution_count": null,
   "metadata": {},
   "outputs": [],
   "source": [
    "# Northern Hemisphere\n",
    "# YOUR CODE HERE"
   ]
  },
  {
   "cell_type": "code",
   "execution_count": null,
   "metadata": {},
   "outputs": [],
   "source": [
    "# Southern Hemisphere\n",
    "# YOUR CODE HERE"
   ]
  },
  {
   "cell_type": "markdown",
   "metadata": {},
   "source": [
    "**Discussion about the linear relationship:** YOUR RESPONSE HERE"
   ]
  },
  {
   "cell_type": "code",
   "execution_count": null,
   "metadata": {},
   "outputs": [],
   "source": []
  }
 ],
 "metadata": {
  "anaconda-cloud": {},
  "kernel_info": {
   "name": "python3"
  },
  "kernelspec": {
   "display_name": "Python 3 (ipykernel)",
   "language": "python",
   "name": "python3"
  },
  "language_info": {
   "codemirror_mode": {
    "name": "ipython",
    "version": 3
   },
   "file_extension": ".py",
   "mimetype": "text/x-python",
   "name": "python",
   "nbconvert_exporter": "python",
   "pygments_lexer": "ipython3",
   "version": "3.10.14"
  },
  "latex_envs": {
   "LaTeX_envs_menu_present": true,
   "autoclose": false,
   "autocomplete": true,
   "bibliofile": "biblio.bib",
   "cite_by": "apalike",
   "current_citInitial": 1,
   "eqLabelWithNumbers": true,
   "eqNumInitial": 1,
   "hotkeys": {
    "equation": "Ctrl-E",
    "itemize": "Ctrl-I"
   },
   "labels_anchors": false,
   "latex_user_defs": false,
   "report_style_numbering": false,
   "user_envs_cfg": false
  },
  "nteract": {
   "version": "0.12.3"
  }
 },
 "nbformat": 4,
 "nbformat_minor": 4
}
